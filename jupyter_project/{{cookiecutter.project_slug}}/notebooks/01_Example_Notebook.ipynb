{
 "cells": [
  {
   "cell_type": "markdown",
   "id": "519642c8-b340-4d38-bbe1-bbc94979250d",
   "metadata": {},
   "source": [
    "<a id=\"top\"></a>\n",
    "# Example Notebook"
   ]
  },
  {
   "cell_type": "markdown",
   "id": "00f94eba-455d-4971-bd9d-8fbf6daeff43",
   "metadata": {},
   "source": [
    "## Contents\n",
    "\n",
    "This notebook provides an example of best practices when using a jupyter environment. The following principles are demonstrated:\n",
    "\n",
    "+ [Navigable markdown](#nav)\n",
    "+ [Expressive and functional variable names](#variable)\n",
    "+ [Cell asserts](#cells)"
   ]
  },
  {
   "cell_type": "markdown",
   "id": "3bb20dd1-145e-40df-bbd9-d3636ce3d9e2",
   "metadata": {},
   "source": [
    "<a id=\"nav\"></a>\n",
    "## Navigable markdown"
   ]
  },
  {
   "cell_type": "markdown",
   "id": "f5009b19-864a-4444-8246-5b86c9a04923",
   "metadata": {},
   "source": [
    "### What\n",
    "\n",
    "Navigable markdown means both utilizing standard markdown styles as well as providing reasonable navigation links within logical sections of your notebook."
   ]
  },
  {
   "cell_type": "markdown",
   "id": "bce53247-14db-45a6-b5ca-f13397f5c973",
   "metadata": {},
   "source": [
    "### Why\n",
    "\n",
    "Generally, by the time we're ready to have a notebook accessed, used, or just read by others we've spent a good deal of time running code cells and navigating back to sections to make changes or improvements. One result of this is we have developed a non-intuitive understanding of where everything is; not only is it sensible to us because we made it from scratch, but it almost doesn't matter to us if it is disorganised because we've spent so much time \"practicing\" navigating the document. For this reason, it can be hard to recognize the need for structure and organisation, so it's better to build it in by design!\n",
    "\n",
    "This means two things in terms of notebooks. First, using standard markdown correctly will mean that in many environments an easily navigable outline will be readily available to readers without any extra work (jupyterlab, vscode extension, colab, etc...). This may not be the case in every environment, and most certainly will not transalate to any static export of your notebook (pdf, html, etc...). For this reason, it's advisable to also use sensible html anchor tags to facilitate orgaizing and moving around even under conditions without automatic outlines parsed from markdown."
   ]
  },
  {
   "cell_type": "markdown",
   "id": "60f285ec-cdc1-45c5-9eb0-3248204cf014",
   "metadata": {},
   "source": [
    "### Example\n",
    "\n",
    "Implementing navigable links means using descending markdown headers and adding in anchor links. \n",
    "\n",
    "#### Use descending markdown headings\n",
    "\n",
    "Start your notebook at level 1 e.g. ```# Example Notebook```\n",
    "\n",
    "Maintain a consistent hierarchy of heading levels to achieve navigation links that nest in a logical way.\n",
    "\n",
    "#### Make an anchor link above the section to link to (it won't show up when rendered)\n",
    "```html\n",
    "<a id=\"name-of-section\"></a>\n",
    "```\n",
    "\n",
    "#### Make a link to a section (e.g. top of the notebook)\n",
    "```markdown\n",
    "[Back to Top](#top)\n",
    "```\n",
    "\n",
    "Below is just that a link to let you get back to the top of the document and content links so it's straightforward to take the contents link there to your choice of next section. Think about proabble other readers when deciding where to put these - if you work on a larger than standard laptop screen, for example, try reading through your notebook on one of these when making this decision!\n",
    "\n",
    "[Back to Top](#top)"
   ]
  },
  {
   "cell_type": "markdown",
   "id": "4c4764fc-240b-421c-9744-87795268025b",
   "metadata": {},
   "source": [
    "<a id=\"variable\"></a>\n",
    "## Expressive and functional variable names"
   ]
  },
  {
   "cell_type": "markdown",
   "id": "a79a18d4-ac1a-4d1b-ab50-cf9df7f24f18",
   "metadata": {},
   "source": [
    "### What\n",
    "\n",
    "Expressive variable names are names that are very clear about what the object they point to represent. Function variable names have increased convenience by fronting dissimilarity with other variables."
   ]
  },
  {
   "cell_type": "markdown",
   "id": "d9c97ca2-1b2f-4c35-ab62-f508c9443cf9",
   "metadata": {},
   "source": [
    "### Why\n",
    "\n",
    "Using *expressive* variable names is nothing new. If we can't really tell what something is when we read it, that adds extra cognitive load to a situation unnecessarily. For example, if I have a raw dataset in a notebook withe the variable name ```df``` and a cleaned version in the same notebook with the name ```data``` I must remember this convention to recognise when the raw or cleaned data is being used. This really isn't a standard convention, so names that contained that information would be a bit more useful - ```df_raw``` and ```df_clean``` would be an improvement.\n",
    "\n",
    "This isn't the only way we can make better variable names however. Particularly in interactive environments like jupyter, it an save a lot of time to take advantage of variable completion features. Remeber the ```df_raw``` and ```df_clean``` variables? Notive that they start with the same three letters? If instead we called them ```raw_df``` and ```clean_df``` our variable completion feature would work better and with much less information."
   ]
  },
  {
   "cell_type": "markdown",
   "id": "7460139e-feaa-4296-82c2-91a9a8c98a82",
   "metadata": {},
   "source": [
    "### Example\n",
    "\n",
    "#### Expressive vs ambiguous\n",
    "\n",
    "| Object                                | Expresssive | Ambiguous |\n",
    "|---------------------------------------|:-----------:|-----------|\n",
    "| pandas dataframe - raw                | df_raw      | df        |\n",
    "| dict of parameters for a FRED api call    | api_params  | p         |\n",
    "| an EllipticCurvePublicKey | ec_pubk  | pk        |\n",
    "\n",
    "#### Functional vs not\n",
    "\n",
    "| Object                                 |    Functional   | Not*        |\n",
    "|----------------------------------------|:---------------:|------------|\n",
    "| pandas dataframe - raw                 | raw_df          | df_raw     |\n",
    "| dict of parameters for a FRED api call | api_fred_params | params_api |\n",
    "| an EllipticCurvePublicKey              | pubk_ec         | ec_pubk    |\n",
    "\n",
    "\\*The context matters a great deal in determining what is more or less functional. If your namespace full of things that start with ```df``` for example, variables that begin with something more distinctive will be more functional.\n",
    "\n",
    "[Back to Top](#top)"
   ]
  },
  {
   "cell_type": "markdown",
   "id": "3087c670-3f05-453e-a97a-887616795f13",
   "metadata": {},
   "source": [
    "<a id=\"cells\"></a>\n",
    "## Cell asserts"
   ]
  },
  {
   "cell_type": "markdown",
   "id": "ec6a725b-1ad4-426f-92bb-dd1e67682dbf",
   "metadata": {},
   "source": [
    "### What\n",
    "\n",
    "Cell asserts are assert statemnets at the end of every code cell that validates some important aspect of the work accomplished in that cell."
   ]
  },
  {
   "cell_type": "markdown",
   "id": "d7fc3d8a-4f44-4d45-bd1e-e646d093509a",
   "metadata": {},
   "source": [
    "### Why\n",
    "\n",
    "Cell assertions allow for a kind of testing to be part of standard notebook composition practice. While not intended to replace more comprehensive and formalised kinds of testing, making yourself write a meaningful cell assertion is a good practice for two reasons. First, it helps reinforce the purpose of a cell. While this can always be done with comments, bloating code with non-functional text is rarely necessaary and because it doesn't actually affirm what is being said, it's possible for comments to be misleading. Cell asserts are also a great way to combat one of the problems characterstic of a cell execution format, namely that if things are done out of order for some reason the unexpected may occur. It's also a good idea to check for any critical version pegs using asserts at the outset."
   ]
  },
  {
   "cell_type": "markdown",
   "id": "bbf5dbc1-cd3a-4964-b392-03ae54758621",
   "metadata": {},
   "source": [
    "### Example"
   ]
  },
  {
   "cell_type": "code",
   "execution_count": 2,
   "id": "6661a910-38a5-4fae-8b96-0efaca4bf5ab",
   "metadata": {},
   "outputs": [
    {
     "ename": "ModuleNotFoundError",
     "evalue": "No module named 'pandas'",
     "output_type": "error",
     "traceback": [
      "\u001b[0;31m---------------------------------------------------------------------------\u001b[0m",
      "\u001b[0;31mModuleNotFoundError\u001b[0m                       Traceback (most recent call last)",
      "Cell \u001b[0;32mIn[2], line 1\u001b[0m\n\u001b[0;32m----> 1\u001b[0m \u001b[38;5;28;01mimport\u001b[39;00m \u001b[38;5;21;01mpandas\u001b[39;00m \u001b[38;5;28;01mas\u001b[39;00m \u001b[38;5;21;01mpd\u001b[39;00m\n",
      "\u001b[0;31mModuleNotFoundError\u001b[0m: No module named 'pandas'"
     ]
    }
   ],
   "source": [
    "import pandas as pd"
   ]
  },
  {
   "cell_type": "code",
   "execution_count": null,
   "id": "9a989781-31aa-4ae4-bd4a-5321cc8cd5a1",
   "metadata": {},
   "outputs": [],
   "source": []
  }
 ],
 "metadata": {
  "kernelspec": {
   "display_name": "Python 3 (ipykernel)",
   "language": "python",
   "name": "python3"
  },
  "language_info": {
   "codemirror_mode": {
    "name": "ipython",
    "version": 3
   },
   "file_extension": ".py",
   "mimetype": "text/x-python",
   "name": "python",
   "nbconvert_exporter": "python",
   "pygments_lexer": "ipython3",
   "version": "3.11.4"
  }
 },
 "nbformat": 4,
 "nbformat_minor": 5
}
